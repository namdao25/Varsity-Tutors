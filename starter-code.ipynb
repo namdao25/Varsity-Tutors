{
 "cells": [
  {
   "cell_type": "markdown",
   "metadata": {},
   "source": [
    "## What is control flow?\n",
    "\n",
    "Up until now, our Python \"programs\" have been very boring. No pieces of logic have spanned more than one line, and our code was always run top-to-bottom. This is rarely how real code works.\n",
    "\n",
    "* Often we only want a line of code to be run _**sometimes**_. (conditionals!)\n",
    "* Often we want a line of code to run _**many times in a row**_. (loops!)\n",
    "* Often we want to bottle up complex pieces of code and run it _**many times throughout our code, a little different each time, without having to rewrite the whole thing.**_ (functions... tomorrow)"
   ]
  },
  {
   "cell_type": "markdown",
   "metadata": {},
   "source": [
    "<a id='if_else_statements'></a>\n",
    "## Conditional Statements\n",
    "\n",
    "\n",
    "We'll use an `if` statement if we want some code to only run if a certain condition is true.\n",
    "\n",
    "**Conundrum:** You can only have ice cream if you finish your broccoli!"
   ]
  },
  {
   "cell_type": "code",
   "execution_count": 4,
   "metadata": {},
   "outputs": [
    {
     "ename": "NameError",
     "evalue": "name 'ice_cream' is not defined",
     "output_type": "error",
     "traceback": [
      "\u001b[0;31m---------------------------------------------------------------------------\u001b[0m",
      "\u001b[0;31mNameError\u001b[0m                                 Traceback (most recent call last)",
      "\u001b[0;32m<ipython-input-4-15d455aaeb62>\u001b[0m in \u001b[0;36m<module>\u001b[0;34m\u001b[0m\n\u001b[0;32m----> 1\u001b[0;31m \u001b[0mprint\u001b[0m\u001b[0;34m(\u001b[0m\u001b[0mice_cream\u001b[0m\u001b[0;34m)\u001b[0m\u001b[0;34m\u001b[0m\u001b[0;34m\u001b[0m\u001b[0m\n\u001b[0m",
      "\u001b[0;31mNameError\u001b[0m: name 'ice_cream' is not defined"
     ]
    }
   ],
   "source": [
    "\n",
    "print(ice_cream)"
   ]
  },
  {
   "cell_type": "markdown",
   "metadata": {},
   "source": [
    "## Did you finish your broccoli?\n",
    "<details>\n",
    "    <summary>Click to reveal your reward:</summary>\n",
    "    <img src=\"imgs/ice-cream.jpg\">\n",
    "</details>"
   ]
  },
  {
   "cell_type": "markdown",
   "metadata": {},
   "source": [
    "## Now You: Health Test\n",
    "\n",
    "Suppose you are processing the results of a health test. The test is scored from 0 to 100, where 100 is perfect health.\n",
    "\n",
    "If the person's health is above 70, print something encouraging. Otherwise, print \"Go to the doctor, now!\""
   ]
  },
  {
   "cell_type": "code",
   "execution_count": 7,
   "metadata": {},
   "outputs": [
    {
     "name": "stdout",
     "output_type": "stream",
     "text": [
      "Go to the doctor, now!\n"
     ]
    }
   ],
   "source": [
    "# TODO: Your if/elif/else statement here!"
   ]
  },
  {
   "cell_type": "markdown",
   "metadata": {},
   "source": [
    "## Loopin'\n",
    "\n",
    "![](imgs/loops.jpg)\n",
    "\n",
    "There are a few types of loops in Python. Today we'll tackle `for` and `while` loops.\n",
    "\n",
    "We'll write a `for` loop to loop through some iterable (like a list) and do something for each element."
   ]
  },
  {
   "cell_type": "code",
   "execution_count": 9,
   "metadata": {},
   "outputs": [],
   "source": [
    "names = ['Gwen', 'Heather', 'Dustin']"
   ]
  },
  {
   "cell_type": "code",
   "execution_count": null,
   "metadata": {},
   "outputs": [],
   "source": []
  },
  {
   "cell_type": "code",
   "execution_count": null,
   "metadata": {},
   "outputs": [],
   "source": []
  },
  {
   "cell_type": "markdown",
   "metadata": {},
   "source": [
    "You can also loop through sequences of numbers with the `range()` function."
   ]
  },
  {
   "cell_type": "code",
   "execution_count": 8,
   "metadata": {},
   "outputs": [],
   "source": [
    "# Range 1 thru 100"
   ]
  },
  {
   "cell_type": "code",
   "execution_count": null,
   "metadata": {},
   "outputs": [],
   "source": []
  },
  {
   "cell_type": "markdown",
   "metadata": {},
   "source": [
    "### Now you:"
   ]
  },
  {
   "cell_type": "markdown",
   "metadata": {},
   "source": [
    "# THREAD: Write a loop that prints all of the EVEN numbers between 10 and 20 (inclusive).\n",
    "# (There are two good answers to this!)"
   ]
  },
  {
   "cell_type": "code",
   "execution_count": null,
   "metadata": {},
   "outputs": [],
   "source": []
  },
  {
   "cell_type": "code",
   "execution_count": 9,
   "metadata": {},
   "outputs": [],
   "source": [
    "# Answer 1: \n"
   ]
  },
  {
   "cell_type": "code",
   "execution_count": 2,
   "metadata": {},
   "outputs": [],
   "source": [
    "# Answer 2:\n"
   ]
  },
  {
   "cell_type": "markdown",
   "metadata": {},
   "source": [
    "## Aside: Strange Loops!\n",
    "You can also loop through more exotic objects that take advantage of _tuple unpacking!_ We won't see this very often, but when we do, it'll be really handy."
   ]
  },
  {
   "cell_type": "code",
   "execution_count": 26,
   "metadata": {},
   "outputs": [],
   "source": [
    "animals = [\n",
    "    ('zebra', 'mammal'),\n",
    "    ('tuna', 'fish'),\n",
    "    ('python', 'reptile'),\n",
    "    ('panda', 'mammal'),\n",
    "    ('frog', 'amphibian')\n",
    "]\n"
   ]
  },
  {
   "cell_type": "code",
   "execution_count": 27,
   "metadata": {},
   "outputs": [],
   "source": [
    "animals_dict = {\n",
    "    'zebra': 'mammal',\n",
    "    'tuna': 'fish',\n",
    "    'python': 'reptile',\n",
    "    'panda': 'mammal',\n",
    "    'frog': 'amphibian'\n",
    "}\n"
   ]
  },
  {
   "cell_type": "code",
   "execution_count": null,
   "metadata": {},
   "outputs": [],
   "source": []
  },
  {
   "cell_type": "code",
   "execution_count": 1,
   "metadata": {},
   "outputs": [],
   "source": [
    "names = ['Gwen', 'Heather', 'Dustin']\n"
   ]
  },
  {
   "cell_type": "markdown",
   "metadata": {},
   "source": [
    "###  While Loops\n",
    "Less common than `for` loops, while loops run until some condition is _not_ met. They're useful for when you don't know how long a loop should run for."
   ]
  },
  {
   "cell_type": "code",
   "execution_count": 34,
   "metadata": {},
   "outputs": [
    {
     "name": "stdout",
     "output_type": "stream",
     "text": [
      "0\n",
      "1\n",
      "2\n",
      "3\n",
      "4\n",
      "5\n",
      "6\n",
      "7\n",
      "8\n",
      "9\n"
     ]
    }
   ],
   "source": [
    "i = 0\n",
    "while i < 10:\n",
    "    print(i)\n",
    "    i+= 1\n",
    "    "
   ]
  },
  {
   "cell_type": "code",
   "execution_count": 19,
   "metadata": {},
   "outputs": [],
   "source": [
    "# CAUTION: The infinite loop!!"
   ]
  },
  {
   "cell_type": "code",
   "execution_count": null,
   "metadata": {},
   "outputs": [],
   "source": []
  },
  {
   "cell_type": "markdown",
   "metadata": {},
   "source": [
    "## Error Handling\n",
    "Sometimes, you might actually expect for your program to fail! We can account for this using `try` and `except` clauses."
   ]
  },
  {
   "cell_type": "code",
   "execution_count": null,
   "metadata": {},
   "outputs": [],
   "source": [
    "# 1/0\n",
    "grades = [85, 80, 95, 55, 78, 'eighty']"
   ]
  },
  {
   "cell_type": "code",
   "execution_count": null,
   "metadata": {},
   "outputs": [],
   "source": []
  },
  {
   "cell_type": "code",
   "execution_count": null,
   "metadata": {},
   "outputs": [],
   "source": [
    "# 'a' - 'b'"
   ]
  },
  {
   "cell_type": "code",
   "execution_count": null,
   "metadata": {},
   "outputs": [],
   "source": []
  },
  {
   "cell_type": "markdown",
   "metadata": {},
   "source": [
    "## What did we do today?\n",
    "- Learned how to _control the flow_ of our program.\n",
    "- `if`/`elif`/`else` conditional statements.\n",
    "- `for` and `while` loops.\n",
    "- Error handling with `try`/`except`."
   ]
  },
  {
   "cell_type": "markdown",
   "metadata": {},
   "source": [
    "## Further resources\n",
    "- [Automate the Boring Stuff with Python](https://automatetheboringstuff.com)\n",
    "- The `exercises.ipynb` notebook in this repo! Actually, let's go there now!"
   ]
  }
 ],
 "metadata": {
  "kernelspec": {
   "display_name": "Python 3",
   "language": "python",
   "name": "python3"
  },
  "language_info": {
   "codemirror_mode": {
    "name": "ipython",
    "version": 3
   },
   "file_extension": ".py",
   "mimetype": "text/x-python",
   "name": "python",
   "nbconvert_exporter": "python",
   "pygments_lexer": "ipython3",
   "version": "3.8.5"
  }
 },
 "nbformat": 4,
 "nbformat_minor": 4
}
